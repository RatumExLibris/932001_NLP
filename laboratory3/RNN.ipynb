{
 "cells": [
  {
   "cell_type": "code",
   "execution_count": 8,
   "id": "0bf7f906",
   "metadata": {},
   "outputs": [
    {
     "name": "stderr",
     "output_type": "stream",
     "text": [
      "[nltk_data] Downloading package punkt to\n",
      "[nltk_data]     C:\\Users\\Владислав\\AppData\\Roaming\\nltk_data...\n",
      "[nltk_data]   Package punkt is already up-to-date!\n"
     ]
    },
    {
     "data": {
      "text/plain": [
       "True"
      ]
     },
     "execution_count": 8,
     "metadata": {},
     "output_type": "execute_result"
    }
   ],
   "source": [
    "import re\n",
    "from tqdm import tqdm\n",
    "from rnnmorph.predictor import RNNMorphPredictor\n",
    "import nltk\n",
    "from nltk.tokenize import word_tokenize\n",
    "import pandas as pd\n",
    "\n",
    "nltk.download('punkt')"
   ]
  },
  {
   "cell_type": "code",
   "execution_count": 2,
   "id": "2c642a5b",
   "metadata": {},
   "outputs": [
    {
     "data": {
      "text/plain": [
       "'Карл Генри'"
      ]
     },
     "execution_count": 2,
     "metadata": {},
     "output_type": "execute_result"
    }
   ],
   "source": [
    "file = open('Capital_Karl_Marx.txt', 'r')\n",
    "text = file.read()\n",
    "text[0:10]"
   ]
  },
  {
   "cell_type": "code",
   "execution_count": 3,
   "id": "a732e36f",
   "metadata": {},
   "outputs": [
    {
     "data": {
      "text/plain": [
       "['Карл',\n",
       " 'Генрих',\n",
       " 'Маркс',\n",
       " 'Капитал',\n",
       " 'Книга',\n",
       " 'первая',\n",
       " ':',\n",
       " 'процесс',\n",
       " 'производства',\n",
       " 'капитала']"
      ]
     },
     "execution_count": 3,
     "metadata": {},
     "output_type": "execute_result"
    }
   ],
   "source": [
    "words = word_tokenize(text)\n",
    "words[0:10]"
   ]
  },
  {
   "cell_type": "code",
   "execution_count": 4,
   "id": "b02bbefd",
   "metadata": {},
   "outputs": [],
   "source": [
    "predictor = RNNMorphPredictor(language='ru')"
   ]
  },
  {
   "cell_type": "code",
   "execution_count": 5,
   "id": "003878de",
   "metadata": {},
   "outputs": [
    {
     "data": {
      "text/plain": [
       "491957"
      ]
     },
     "execution_count": 5,
     "metadata": {},
     "output_type": "execute_result"
    }
   ],
   "source": [
    "len(words)"
   ]
  },
  {
   "cell_type": "markdown",
   "id": "4408ed00",
   "metadata": {},
   "source": [
    "<h3>Получения свойств слов с RNN</h3>\n",
    "\n",
    "Эта часть работает долго, можно перейти к следующей, результаты сохранены заранее"
   ]
  },
  {
   "cell_type": "code",
   "execution_count": 22,
   "id": "c166239d",
   "metadata": {},
   "outputs": [
    {
     "name": "stdout",
     "output_type": "stream",
     "text": [
      "1/1 [==============================] - 793s 793s/step\n"
     ]
    }
   ],
   "source": [
    "res = predictor.predict(words)"
   ]
  },
  {
   "cell_type": "code",
   "execution_count": 32,
   "id": "ce7ace03",
   "metadata": {},
   "outputs": [
    {
     "data": {
      "text/html": [
       "<div>\n",
       "<style scoped>\n",
       "    .dataframe tbody tr th:only-of-type {\n",
       "        vertical-align: middle;\n",
       "    }\n",
       "\n",
       "    .dataframe tbody tr th {\n",
       "        vertical-align: top;\n",
       "    }\n",
       "\n",
       "    .dataframe thead th {\n",
       "        text-align: right;\n",
       "    }\n",
       "</style>\n",
       "<table border=\"1\" class=\"dataframe\">\n",
       "  <thead>\n",
       "    <tr style=\"text-align: right;\">\n",
       "      <th></th>\n",
       "      <th>normal_form</th>\n",
       "      <th>word</th>\n",
       "      <th>pos</th>\n",
       "      <th>tag</th>\n",
       "      <th>score</th>\n",
       "    </tr>\n",
       "  </thead>\n",
       "  <tbody>\n",
       "    <tr>\n",
       "      <th>0</th>\n",
       "      <td>карла</td>\n",
       "      <td>Карл</td>\n",
       "      <td>NOUN</td>\n",
       "      <td>Case=Nom|Gender=Masc|Number=Sing</td>\n",
       "      <td>0.987951</td>\n",
       "    </tr>\n",
       "    <tr>\n",
       "      <th>1</th>\n",
       "      <td>генрих</td>\n",
       "      <td>Генрих</td>\n",
       "      <td>NOUN</td>\n",
       "      <td>Case=Nom|Gender=Masc|Number=Sing</td>\n",
       "      <td>0.986695</td>\n",
       "    </tr>\n",
       "    <tr>\n",
       "      <th>2</th>\n",
       "      <td>маркс</td>\n",
       "      <td>Маркс</td>\n",
       "      <td>NOUN</td>\n",
       "      <td>Case=Nom|Gender=Masc|Number=Sing</td>\n",
       "      <td>0.832564</td>\n",
       "    </tr>\n",
       "    <tr>\n",
       "      <th>3</th>\n",
       "      <td>капитал</td>\n",
       "      <td>Капитал</td>\n",
       "      <td>NOUN</td>\n",
       "      <td>Case=Nom|Gender=Masc|Number=Sing</td>\n",
       "      <td>0.954661</td>\n",
       "    </tr>\n",
       "    <tr>\n",
       "      <th>4</th>\n",
       "      <td>книга</td>\n",
       "      <td>Книга</td>\n",
       "      <td>NOUN</td>\n",
       "      <td>Case=Nom|Gender=Fem|Number=Sing</td>\n",
       "      <td>0.999114</td>\n",
       "    </tr>\n",
       "  </tbody>\n",
       "</table>\n",
       "</div>"
      ],
      "text/plain": [
       "  normal_form     word   pos                               tag     score\n",
       "0       карла     Карл  NOUN  Case=Nom|Gender=Masc|Number=Sing  0.987951\n",
       "1      генрих   Генрих  NOUN  Case=Nom|Gender=Masc|Number=Sing  0.986695\n",
       "2       маркс    Маркс  NOUN  Case=Nom|Gender=Masc|Number=Sing  0.832564\n",
       "3     капитал  Капитал  NOUN  Case=Nom|Gender=Masc|Number=Sing  0.954661\n",
       "4       книга    Книга  NOUN   Case=Nom|Gender=Fem|Number=Sing  0.999114"
      ]
     },
     "execution_count": 32,
     "metadata": {},
     "output_type": "execute_result"
    }
   ],
   "source": [
    "nf = []\n",
    "word = []\n",
    "pos = []\n",
    "tag = []\n",
    "score = []\n",
    "for i in res:\n",
    "    nf.append(i.normal_form)\n",
    "    word.append(i.word)\n",
    "    pos.append(i.pos)\n",
    "    tag.append(i.tag)\n",
    "    score.append(i.score)\n",
    "df = pd.DataFrame({'normal_form': nf, 'word': word, 'pos': pos, 'tag':tag, 'score':score})\n",
    "df.head()"
   ]
  },
  {
   "cell_type": "code",
   "execution_count": 33,
   "id": "8294306b",
   "metadata": {},
   "outputs": [],
   "source": [
    "df.to_csv('RNNwords.csv', index=False)"
   ]
  },
  {
   "cell_type": "markdown",
   "id": "519ca4a5",
   "metadata": {},
   "source": [
    "<h3>Поиск пар слов по предоставленным условиям</h3>"
   ]
  },
  {
   "cell_type": "code",
   "execution_count": 6,
   "id": "e0fb7e4c",
   "metadata": {},
   "outputs": [
    {
     "data": {
      "text/html": [
       "<div>\n",
       "<style scoped>\n",
       "    .dataframe tbody tr th:only-of-type {\n",
       "        vertical-align: middle;\n",
       "    }\n",
       "\n",
       "    .dataframe tbody tr th {\n",
       "        vertical-align: top;\n",
       "    }\n",
       "\n",
       "    .dataframe thead th {\n",
       "        text-align: right;\n",
       "    }\n",
       "</style>\n",
       "<table border=\"1\" class=\"dataframe\">\n",
       "  <thead>\n",
       "    <tr style=\"text-align: right;\">\n",
       "      <th></th>\n",
       "      <th>normal_form</th>\n",
       "      <th>word</th>\n",
       "      <th>pos</th>\n",
       "      <th>tag</th>\n",
       "      <th>score</th>\n",
       "    </tr>\n",
       "  </thead>\n",
       "  <tbody>\n",
       "    <tr>\n",
       "      <th>0</th>\n",
       "      <td>карла</td>\n",
       "      <td>Карл</td>\n",
       "      <td>NOUN</td>\n",
       "      <td>Case=Nom|Gender=Masc|Number=Sing</td>\n",
       "      <td>0.987951</td>\n",
       "    </tr>\n",
       "    <tr>\n",
       "      <th>1</th>\n",
       "      <td>генрих</td>\n",
       "      <td>Генрих</td>\n",
       "      <td>NOUN</td>\n",
       "      <td>Case=Nom|Gender=Masc|Number=Sing</td>\n",
       "      <td>0.986695</td>\n",
       "    </tr>\n",
       "    <tr>\n",
       "      <th>2</th>\n",
       "      <td>маркс</td>\n",
       "      <td>Маркс</td>\n",
       "      <td>NOUN</td>\n",
       "      <td>Case=Nom|Gender=Masc|Number=Sing</td>\n",
       "      <td>0.832564</td>\n",
       "    </tr>\n",
       "    <tr>\n",
       "      <th>3</th>\n",
       "      <td>капитал</td>\n",
       "      <td>Капитал</td>\n",
       "      <td>NOUN</td>\n",
       "      <td>Case=Nom|Gender=Masc|Number=Sing</td>\n",
       "      <td>0.954661</td>\n",
       "    </tr>\n",
       "    <tr>\n",
       "      <th>4</th>\n",
       "      <td>книга</td>\n",
       "      <td>Книга</td>\n",
       "      <td>NOUN</td>\n",
       "      <td>Case=Nom|Gender=Fem|Number=Sing</td>\n",
       "      <td>0.999114</td>\n",
       "    </tr>\n",
       "  </tbody>\n",
       "</table>\n",
       "</div>"
      ],
      "text/plain": [
       "  normal_form     word   pos                               tag     score\n",
       "0       карла     Карл  NOUN  Case=Nom|Gender=Masc|Number=Sing  0.987951\n",
       "1      генрих   Генрих  NOUN  Case=Nom|Gender=Masc|Number=Sing  0.986695\n",
       "2       маркс    Маркс  NOUN  Case=Nom|Gender=Masc|Number=Sing  0.832564\n",
       "3     капитал  Капитал  NOUN  Case=Nom|Gender=Masc|Number=Sing  0.954661\n",
       "4       книга    Книга  NOUN   Case=Nom|Gender=Fem|Number=Sing  0.999114"
      ]
     },
     "execution_count": 6,
     "metadata": {},
     "output_type": "execute_result"
    }
   ],
   "source": [
    "df = pd.read_csv('RNNwords.csv')\n",
    "df.head()"
   ]
  },
  {
   "cell_type": "code",
   "execution_count": 7,
   "id": "466afccc",
   "metadata": {},
   "outputs": [],
   "source": [
    "def get_tags_from_str(tag_str):\n",
    "    params = tag_str.split('|')\n",
    "    tags = {}\n",
    "    if len(params)>1:\n",
    "        for i in params:\n",
    "            tag = i.split('=')\n",
    "            tags[tag[0]] = tag[1]\n",
    "    return tags"
   ]
  },
  {
   "cell_type": "code",
   "execution_count": 9,
   "id": "c567a77d",
   "metadata": {
    "scrolled": true
   },
   "outputs": [
    {
     "name": "stderr",
     "output_type": "stream",
     "text": [
      "100%|████████████████████████████████████████████████████████████████████████| 491957/491957 [01:45<00:00, 4680.11it/s]\n"
     ]
    }
   ],
   "source": [
    "result = []\n",
    "left_word = { 'word': '', 'POS': '', 'gender': '', 'number': '', 'case': '', 'idx':-2 }\n",
    "idxs = df.index.to_list()\n",
    "\n",
    "for i in tqdm(range(0, df.shape[0])):\n",
    "    tag = get_tags_from_str(df.iloc[i].tag)\n",
    "    if df.iloc[i].pos in ['NOUN', 'ADJ'] and len(set(tag.keys()).intersection(set(['Gender', 'Case', 'Number'])))==3:\n",
    "        if (i-left_word['idx']==1 and left_word['gender']==tag['Gender'] and\n",
    "            left_word['number']==tag['Number'] and left_word['case']==tag['Case'] and\n",
    "            left_word['POS']!=df.iloc[i].pos):\n",
    "            result.append(left_word['word'] + ' ' + df.iloc[i].normal_form)\n",
    "        left_word['idx'] = i\n",
    "        left_word['word'] = df.iloc[i].normal_form\n",
    "        left_word['POS'] = df.iloc[i].pos\n",
    "        left_word['gender'] = tag['Gender']\n",
    "        left_word['number'] = tag['Number']\n",
    "        left_word['case'] = tag['Case']"
   ]
  },
  {
   "cell_type": "code",
   "execution_count": 12,
   "id": "21de5635",
   "metadata": {},
   "outputs": [
    {
     "data": {
      "text/plain": [
       "27403"
      ]
     },
     "execution_count": 12,
     "metadata": {},
     "output_type": "execute_result"
    }
   ],
   "source": [
    "len(result)"
   ]
  },
  {
   "cell_type": "code",
   "execution_count": 13,
   "id": "b8a30699",
   "metadata": {},
   "outputs": [
    {
     "data": {
      "text/plain": [
       "7520"
      ]
     },
     "execution_count": 13,
     "metadata": {},
     "output_type": "execute_result"
    }
   ],
   "source": [
    "# Drop duplicates\n",
    "result1 = list(set(result))\n",
    "len(result1)"
   ]
  },
  {
   "cell_type": "code",
   "execution_count": 14,
   "id": "2a1668b3",
   "metadata": {},
   "outputs": [
    {
     "data": {
      "text/plain": [
       "['настоящий бедствие',\n",
       " 'небольшой объём',\n",
       " 'особенный форма',\n",
       " 'возвращение свой',\n",
       " 'наследственный привилегия',\n",
       " 'этот половина',\n",
       " 'этот нивелировка',\n",
       " 'настоящий цель',\n",
       " 'недостаточный понимание',\n",
       " 'высокий смертность',\n",
       " 'свой тонус',\n",
       " 'парламентский отчёт',\n",
       " 'действительный отдых',\n",
       " 'адекватный бытие',\n",
       " 'денежный маска',\n",
       " 'иной отрасль',\n",
       " 'увеличение рабочий',\n",
       " 'какой результат',\n",
       " 'малый остановка',\n",
       " 'непрерывный кругооборот',\n",
       " 'функциональный форма',\n",
       " 'английский канцлер',\n",
       " 'свободный труд',\n",
       " 'буржуазный право',\n",
       " 'общественный обмен',\n",
       " 'узловой пункт',\n",
       " 'широкий принцип',\n",
       " 'свой накопление',\n",
       " 'самый капитал',\n",
       " 'идеальный образ']"
      ]
     },
     "execution_count": 14,
     "metadata": {},
     "output_type": "execute_result"
    }
   ],
   "source": [
    "file = open('task1_results.txt', 'r')\n",
    "task1_result = file.read().split('\\n')\n",
    "task1_result[0:30]"
   ]
  },
  {
   "cell_type": "code",
   "execution_count": 15,
   "id": "9a7c93de",
   "metadata": {
    "scrolled": false
   },
   "outputs": [
    {
     "data": {
      "text/plain": [
       "[\"'тый процесс\",\n",
       " '.рабочий период',\n",
       " '000с подразделение',\n",
       " '1-й издание',\n",
       " '1-й миллион',\n",
       " '1-й продажа',\n",
       " '10-летний возраст',\n",
       " '10-часовой продолжительность',\n",
       " '101/2-часовой труд',\n",
       " '12-летний возраст',\n",
       " '12-часовой труд',\n",
       " '13-летний возраст',\n",
       " '13–14-часовой труд',\n",
       " '15-й неделя',\n",
       " '15-летний возраст',\n",
       " '15—55-летний возраст',\n",
       " '16-летний возраст',\n",
       " '18-й неделя',\n",
       " '18-летний возраст',\n",
       " '20-летний возраст',\n",
       " '21-й неделя',\n",
       " '23-й год',\n",
       " '24-часовой процесс',\n",
       " '30-й день',\n",
       " '30-летний возраст',\n",
       " '30-часовой работа',\n",
       " '37-й неделя',\n",
       " '4-й неделя',\n",
       " '4-й раздел',\n",
       " '4-летний ребёнок']"
      ]
     },
     "execution_count": 15,
     "metadata": {},
     "output_type": "execute_result"
    }
   ],
   "source": [
    "res1_task1_diff = list(set(result1).difference(set(task1_result)))\n",
    "res1_task1_diff.sort()\n",
    "res1_task1_diff[0:30]"
   ]
  },
  {
   "cell_type": "code",
   "execution_count": 16,
   "id": "47252052",
   "metadata": {},
   "outputs": [
    {
     "data": {
      "text/plain": [
       "3179"
      ]
     },
     "execution_count": 16,
     "metadata": {},
     "output_type": "execute_result"
    }
   ],
   "source": [
    "len(res1_task1_diff)"
   ]
  },
  {
   "cell_type": "markdown",
   "id": "e60bb002",
   "metadata": {},
   "source": [
    "<h3>Свойства RNN</h3>\n",
    "\n",
    "- больше правильно определённых тегов на основе контекста\n",
    "- понимаются сокращения, слова по смыслу схожие с прилагательными\n",
    "- числительные принимаются за прилагательные\n",
    "- понимает зашумлённые слова. Например: ру-ка, часто из-за этого возникают ошибки"
   ]
  },
  {
   "cell_type": "code",
   "execution_count": 17,
   "id": "3d5d71ad",
   "metadata": {},
   "outputs": [
    {
     "data": {
      "text/plain": [
       "['-переменный капитал',\n",
       " '18-часовой день',\n",
       " 'авансирование постоянный',\n",
       " 'акт этот',\n",
       " 'английский рабочий',\n",
       " 'большинство свой',\n",
       " 'бравый мозес',\n",
       " 'ваш данные',\n",
       " 'ваш детство',\n",
       " 'ваш дух',\n",
       " 'ваш идея',\n",
       " 'ваш сведение',\n",
       " 'ваш случай',\n",
       " 'ваш утверждение',\n",
       " 'введение новый',\n",
       " 'ведение весь',\n",
       " 'величина каждый',\n",
       " 'величина сам',\n",
       " 'величина свой',\n",
       " 'величина тот',\n",
       " 'величина этот',\n",
       " 'весь англия',\n",
       " 'весь буржуазия',\n",
       " 'весь величина',\n",
       " 'весь вероятность',\n",
       " 'весь вес',\n",
       " 'весь время',\n",
       " 'весь год',\n",
       " 'весь государство',\n",
       " 'весь движение']"
      ]
     },
     "execution_count": 17,
     "metadata": {},
     "output_type": "execute_result"
    }
   ],
   "source": [
    "task1_res1_diff = list(set(task1_result).difference(set(result1)))\n",
    "task1_res1_diff.sort()\n",
    "task1_res1_diff[0:30]"
   ]
  },
  {
   "cell_type": "code",
   "execution_count": 18,
   "id": "f5057d96",
   "metadata": {},
   "outputs": [
    {
     "data": {
      "text/plain": [
       "1480"
      ]
     },
     "execution_count": 18,
     "metadata": {},
     "output_type": "execute_result"
    }
   ],
   "source": [
    "len(task1_res1_diff)"
   ]
  },
  {
   "cell_type": "markdown",
   "id": "848a31da",
   "metadata": {},
   "source": [
    "<h3>Свойства PyMorphy</h3>\n",
    "\n",
    "- местоимения выдаются за прилагательные"
   ]
  },
  {
   "cell_type": "code",
   "execution_count": 19,
   "id": "08f70bc8",
   "metadata": {},
   "outputs": [
    {
     "data": {
      "text/plain": [
       "['.больший часть',\n",
       " '/необходимый труд',\n",
       " '10-й неделя',\n",
       " '12-й неделя',\n",
       " '12-часовой день',\n",
       " '13-й неделя',\n",
       " '14-й неделя',\n",
       " '15-часовой период',\n",
       " '16-й неделя',\n",
       " '19-й неделя',\n",
       " '2-й неделя',\n",
       " '20-летний модистка',\n",
       " '220-футовый скорость',\n",
       " '24-часовой система',\n",
       " '3-й неделя',\n",
       " '5-й неделя',\n",
       " '5-футовый ход',\n",
       " '6-й неделя',\n",
       " '7-й неделя',\n",
       " '8-фунтовой ткань',\n",
       " '9-й неделя',\n",
       " 'cобственный смысл',\n",
       " 'iii-й случай',\n",
       " 'абсолютный величина',\n",
       " 'абсолютный граница',\n",
       " 'абсолютный итог',\n",
       " 'абсолютный количество',\n",
       " 'абсолютный масса',\n",
       " 'абсолютный обогащение',\n",
       " 'абсолютный правило']"
      ]
     },
     "execution_count": 19,
     "metadata": {},
     "output_type": "execute_result"
    }
   ],
   "source": [
    "intersection = list(set(result1).intersection(set(task1_result)))\n",
    "intersection.sort()\n",
    "intersection[0:30]"
   ]
  },
  {
   "cell_type": "code",
   "execution_count": 20,
   "id": "ec05e824",
   "metadata": {},
   "outputs": [
    {
     "data": {
      "text/plain": [
       "4341"
      ]
     },
     "execution_count": 20,
     "metadata": {},
     "output_type": "execute_result"
    }
   ],
   "source": [
    "len(intersection)"
   ]
  },
  {
   "cell_type": "markdown",
   "id": "d7505a64",
   "metadata": {},
   "source": [
    "<h3>Объединение</h3>\n",
    "\n",
    "- При объединении результаты получаются чище"
   ]
  }
 ],
 "metadata": {
  "kernelspec": {
   "display_name": "Python 3 (ipykernel)",
   "language": "python",
   "name": "python3"
  },
  "language_info": {
   "codemirror_mode": {
    "name": "ipython",
    "version": 3
   },
   "file_extension": ".py",
   "mimetype": "text/x-python",
   "name": "python",
   "nbconvert_exporter": "python",
   "pygments_lexer": "ipython3",
   "version": "3.10.0"
  }
 },
 "nbformat": 4,
 "nbformat_minor": 5
}
