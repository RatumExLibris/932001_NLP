{
 "cells": [
  {
   "cell_type": "code",
   "execution_count": 63,
   "id": "8bac8d53",
   "metadata": {},
   "outputs": [
    {
     "data": {
      "text/plain": [
       "[('фиалка_NOUN', 0.757063627243042),\n",
       " ('незабудка_NOUN', 0.71479731798172),\n",
       " ('цветок_NOUN', 0.7086871862411499),\n",
       " ('цветы_NOUN', 0.7053896188735962),\n",
       " ('орхидея_NOUN', 0.6853053569793701),\n",
       " ('мотылек_NOUN', 0.6806960105895996),\n",
       " ('капустница_NOUN', 0.6519042253494263),\n",
       " ('роза_NOUN', 0.6470329761505127),\n",
       " ('цветочек_NOUN', 0.646864116191864),\n",
       " ('ирис_NOUN', 0.6464393734931946)]"
      ]
     },
     "execution_count": 63,
     "metadata": {},
     "output_type": "execute_result"
    }
   ],
   "source": [
    "import gensim\n",
    "pos = [\"мотылек_NOUN\"]\n",
    "neg = [\"фиалка_NOUN\"]\n",
    "word2vec = gensim.models.KeyedVectors.load_word2vec_format('cbow.txt', binary=False)\n",
    "word2vec.most_similar(positive=['ландыш_NOUN', 'бабочка_NOUN'])"
   ]
  }
 ],
 "metadata": {
  "kernelspec": {
   "display_name": "Python 3 (ipykernel)",
   "language": "python",
   "name": "python3"
  },
  "language_info": {
   "codemirror_mode": {
    "name": "ipython",
    "version": 3
   },
   "file_extension": ".py",
   "mimetype": "text/x-python",
   "name": "python",
   "nbconvert_exporter": "python",
   "pygments_lexer": "ipython3",
   "version": "3.10.0"
  }
 },
 "nbformat": 4,
 "nbformat_minor": 5
}
