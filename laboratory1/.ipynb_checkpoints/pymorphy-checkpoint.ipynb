{
 "cells": [
  {
   "cell_type": "code",
   "execution_count": 1,
   "id": "0dd8c0d4",
   "metadata": {},
   "outputs": [
    {
     "name": "stderr",
     "output_type": "stream",
     "text": [
      "[nltk_data] Downloading package punkt to\n",
      "[nltk_data]     C:\\Users\\Владислав\\AppData\\Roaming\\nltk_data...\n",
      "[nltk_data]   Package punkt is already up-to-date!\n"
     ]
    },
    {
     "data": {
      "text/plain": [
       "True"
      ]
     },
     "execution_count": 1,
     "metadata": {},
     "output_type": "execute_result"
    }
   ],
   "source": [
    "import re\n",
    "\n",
    "import nltk\n",
    "from nltk.tokenize import word_tokenize\n",
    "import pymorphy2\n",
    "\n",
    "nltk.download('punkt')"
   ]
  },
  {
   "cell_type": "code",
   "execution_count": 2,
   "id": "d658c522",
   "metadata": {},
   "outputs": [
    {
     "data": {
      "text/plain": [
       "'Карл Генрих Маркс\\n\\nКапитал\\n\\n\\n\\nКнига первая: процесс производства капитала\\n\\n\\n\\nПредисловие\\xa0к первому изданию\\n\\nТруд, первый том которого я предлагаю вниманию публики, составляет продолжение опубликованного в 1859 г. моего сочинения “К критике политической экономии”. Длительный перерыв между началом и продолжением вызван многолетней болезнью, которая все снова и снова прерывала мою работу.\\n\\nСодержание более раннего сочинения, упомянутого выше, резюмировано в первой главе этого тома. Я сделал это не '"
      ]
     },
     "execution_count": 2,
     "metadata": {},
     "output_type": "execute_result"
    }
   ],
   "source": [
    "file = open('Capital_Karl_Marx.txt', 'r')\n",
    "text = file.read()\n",
    "text[0:500]"
   ]
  },
  {
   "cell_type": "code",
   "execution_count": 4,
   "id": "19ca0d14",
   "metadata": {
    "scrolled": true
   },
   "outputs": [
    {
     "data": {
      "text/plain": [
       "['Карл',\n",
       " 'Генрих',\n",
       " 'Маркс',\n",
       " 'Капитал',\n",
       " 'Книга',\n",
       " 'первая',\n",
       " ':',\n",
       " 'процесс',\n",
       " 'производства',\n",
       " 'капитала',\n",
       " 'Предисловие',\n",
       " 'к',\n",
       " 'первому',\n",
       " 'изданию',\n",
       " 'Труд',\n",
       " ',',\n",
       " 'первый',\n",
       " 'том',\n",
       " 'которого',\n",
       " 'я']"
      ]
     },
     "execution_count": 4,
     "metadata": {},
     "output_type": "execute_result"
    }
   ],
   "source": [
    "words = word_tokenize(text)\n",
    "words[0:20]"
   ]
  },
  {
   "cell_type": "code",
   "execution_count": 5,
   "id": "50706e3c",
   "metadata": {},
   "outputs": [
    {
     "data": {
      "text/plain": [
       "491957"
      ]
     },
     "execution_count": 5,
     "metadata": {},
     "output_type": "execute_result"
    }
   ],
   "source": [
    "len(words)"
   ]
  },
  {
   "cell_type": "code",
   "execution_count": 6,
   "id": "2da5b2b2",
   "metadata": {
    "scrolled": true
   },
   "outputs": [
    {
     "name": "stdout",
     "output_type": "stream",
     "text": [
      "0%\n",
      "1%\n",
      "2%\n",
      "3%\n",
      "4%\n",
      "5%\n",
      "6%\n",
      "7%\n",
      "8%\n",
      "9%\n",
      "10%\n",
      "11%\n",
      "12%\n",
      "13%\n",
      "14%\n",
      "15%\n",
      "16%\n",
      "17%\n",
      "18%\n",
      "19%\n",
      "20%\n",
      "21%\n",
      "22%\n",
      "23%\n",
      "24%\n",
      "25%\n",
      "26%\n",
      "27%\n",
      "28%\n",
      "29%\n",
      "30%\n",
      "31%\n",
      "32%\n",
      "33%\n",
      "34%\n",
      "35%\n",
      "36%\n",
      "37%\n",
      "38%\n",
      "39%\n",
      "40%\n",
      "41%\n",
      "42%\n",
      "43%\n",
      "44%\n",
      "45%\n",
      "46%\n",
      "47%\n",
      "48%\n",
      "49%\n",
      "50%\n",
      "51%\n",
      "52%\n",
      "53%\n",
      "54%\n",
      "55%\n",
      "56%\n",
      "57%\n",
      "58%\n",
      "59%\n",
      "60%\n",
      "61%\n",
      "62%\n",
      "63%\n",
      "64%\n",
      "65%\n",
      "66%\n",
      "67%\n",
      "68%\n",
      "69%\n",
      "70%\n",
      "71%\n",
      "72%\n",
      "73%\n",
      "74%\n",
      "75%\n",
      "76%\n",
      "77%\n",
      "78%\n",
      "79%\n",
      "80%\n",
      "81%\n",
      "82%\n",
      "83%\n",
      "84%\n",
      "85%\n",
      "86%\n",
      "87%\n",
      "88%\n",
      "89%\n",
      "90%\n",
      "91%\n",
      "92%\n",
      "93%\n",
      "94%\n",
      "95%\n",
      "96%\n",
      "97%\n",
      "98%\n",
      "99%\n",
      "100%\n",
      "CPU times: total: 1min 34s\n",
      "Wall time: 1min 34s\n"
     ]
    }
   ],
   "source": [
    "%%time\n",
    "morphy = pymorphy2.MorphAnalyzer()\n",
    "result = []\n",
    "left_word = { 'word': '', 'POS': '', 'gender': '', 'number': '', 'case': '', 'idx':-2 }\n",
    "\n",
    "for i in range(0, len(words)):\n",
    "    if i%int(len(words)/100)==0: print(str(i//int(len(words)/100))+'%')\n",
    "    m = morphy.parse(words[i])[0]\n",
    "    tag = m.tag\n",
    "    if tag.POS in ['NOUN', 'ADJF']:\n",
    "        if (i-left_word['idx']==1 and left_word['gender']==tag.gender and\n",
    "            left_word['number']==tag.number and left_word['case']==tag.case and\n",
    "            left_word['POS']!=tag.POS):\n",
    "            result.append(left_word['word'] + ' ' + m.normal_form)\n",
    "        left_word['idx'] = i\n",
    "        left_word['word'] = m.normal_form\n",
    "        left_word['POS'] = tag.POS\n",
    "        left_word['gender'] = tag.gender\n",
    "        left_word['number'] = tag.number\n",
    "        left_word['case'] = tag.case"
   ]
  },
  {
   "cell_type": "code",
   "execution_count": 7,
   "id": "ef5c4c89",
   "metadata": {},
   "outputs": [
    {
     "data": {
      "text/plain": [
       "21577"
      ]
     },
     "execution_count": 7,
     "metadata": {},
     "output_type": "execute_result"
    }
   ],
   "source": [
    "len(result)"
   ]
  },
  {
   "cell_type": "code",
   "execution_count": 8,
   "id": "fd4818f5",
   "metadata": {},
   "outputs": [
    {
     "data": {
      "text/plain": [
       "5821"
      ]
     },
     "execution_count": 8,
     "metadata": {},
     "output_type": "execute_result"
    }
   ],
   "source": [
    "result1 = list(set(result))\n",
    "len(result1)"
   ]
  },
  {
   "cell_type": "code",
   "execution_count": 12,
   "id": "8987a682",
   "metadata": {},
   "outputs": [
    {
     "data": {
      "text/plain": [
       "['настоящий бедствие',\n",
       " 'небольшой объём',\n",
       " 'особенный форма',\n",
       " 'возвращение свой',\n",
       " 'наследственный привилегия',\n",
       " 'этот половина',\n",
       " 'этот нивелировка',\n",
       " 'настоящий цель',\n",
       " 'недостаточный понимание',\n",
       " 'высокий смертность']"
      ]
     },
     "execution_count": 12,
     "metadata": {},
     "output_type": "execute_result"
    }
   ],
   "source": [
    "result1[0:10]"
   ]
  },
  {
   "cell_type": "code",
   "execution_count": 11,
   "id": "a981e7ed",
   "metadata": {},
   "outputs": [],
   "source": [
    "f = open(\"task1_results.txt\", \"a\")\n",
    "f.write('\\n'.join(result1))\n",
    "f.close()"
   ]
  }
 ],
 "metadata": {
  "kernelspec": {
   "display_name": "Python 3 (ipykernel)",
   "language": "python",
   "name": "python3"
  },
  "language_info": {
   "codemirror_mode": {
    "name": "ipython",
    "version": 3
   },
   "file_extension": ".py",
   "mimetype": "text/x-python",
   "name": "python",
   "nbconvert_exporter": "python",
   "pygments_lexer": "ipython3",
   "version": "3.10.0"
  }
 },
 "nbformat": 4,
 "nbformat_minor": 5
}
