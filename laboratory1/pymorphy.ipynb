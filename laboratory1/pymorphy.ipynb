{
 "cells": [
  {
   "cell_type": "code",
   "execution_count": 1,
   "id": "0dd8c0d4",
   "metadata": {},
   "outputs": [
    {
     "name": "stderr",
     "output_type": "stream",
     "text": [
      "[nltk_data] Downloading package punkt to\n",
      "[nltk_data]     C:\\Users\\Владислав\\AppData\\Roaming\\nltk_data...\n",
      "[nltk_data]   Package punkt is already up-to-date!\n"
     ]
    },
    {
     "data": {
      "text/plain": [
       "True"
      ]
     },
     "execution_count": 1,
     "metadata": {},
     "output_type": "execute_result"
    }
   ],
   "source": [
    "import re\n",
    "from tqdm import tqdm\n",
    "\n",
    "import nltk\n",
    "from nltk.tokenize import word_tokenize\n",
    "import pymorphy2\n",
    "\n",
    "nltk.download('punkt')"
   ]
  },
  {
   "cell_type": "code",
   "execution_count": 2,
   "id": "d658c522",
   "metadata": {},
   "outputs": [
    {
     "data": {
      "text/plain": [
       "'Карл Генрих Маркс\\n\\nКапитал\\n\\n\\n\\nКнига первая: процесс производства капитала\\n\\n\\n\\nПредисловие\\xa0к первому изданию\\n\\nТруд, первый том которого я предлагаю вниманию публики, составляет продолжение опубликованного в 1859 г. моего сочинения “К критике политической экономии”. Длительный перерыв между началом и продолжением вызван многолетней болезнью, которая все снова и снова прерывала мою работу.\\n\\nСодержание более раннего сочинения, упомянутого выше, резюмировано в первой главе этого тома. Я сделал это не '"
      ]
     },
     "execution_count": 2,
     "metadata": {},
     "output_type": "execute_result"
    }
   ],
   "source": [
    "file = open('Capital_Karl_Marx.txt', 'r')\n",
    "text = file.read()\n",
    "text[0:500]"
   ]
  },
  {
   "cell_type": "code",
   "execution_count": 4,
   "id": "19ca0d14",
   "metadata": {
    "scrolled": true
   },
   "outputs": [
    {
     "data": {
      "text/plain": [
       "['Карл',\n",
       " 'Генрих',\n",
       " 'Маркс',\n",
       " 'Капитал',\n",
       " 'Книга',\n",
       " 'первая',\n",
       " ':',\n",
       " 'процесс',\n",
       " 'производства',\n",
       " 'капитала',\n",
       " 'Предисловие',\n",
       " 'к',\n",
       " 'первому',\n",
       " 'изданию',\n",
       " 'Труд',\n",
       " ',',\n",
       " 'первый',\n",
       " 'том',\n",
       " 'которого',\n",
       " 'я']"
      ]
     },
     "execution_count": 4,
     "metadata": {},
     "output_type": "execute_result"
    }
   ],
   "source": [
    "words = word_tokenize(text)\n",
    "words[0:20]"
   ]
  },
  {
   "cell_type": "code",
   "execution_count": 5,
   "id": "50706e3c",
   "metadata": {},
   "outputs": [
    {
     "data": {
      "text/plain": [
       "491957"
      ]
     },
     "execution_count": 5,
     "metadata": {},
     "output_type": "execute_result"
    }
   ],
   "source": [
    "len(words)"
   ]
  },
  {
   "cell_type": "code",
   "execution_count": 6,
   "id": "2da5b2b2",
   "metadata": {
    "scrolled": true
   },
   "outputs": [
    {
     "name": "stderr",
     "output_type": "stream",
     "text": [
      "100%|████████████████████████████████████████████████████████████████████████| 491957/491957 [01:38<00:00, 4987.53it/s]\n"
     ]
    }
   ],
   "source": [
    "morphy = pymorphy2.MorphAnalyzer()\n",
    "result = []\n",
    "left_word = { 'word': '', 'POS': '', 'gender': '', 'number': '', 'case': '', 'idx':-2 }\n",
    "\n",
    "for i in tqdm(range(0, len(words))):\n",
    "    m = morphy.parse(words[i])[0]\n",
    "    tag = m.tag\n",
    "    if tag.POS in ['NOUN', 'ADJF']:\n",
    "        if (i-left_word['idx']==1 and left_word['gender']==tag.gender and\n",
    "            left_word['number']==tag.number and left_word['case']==tag.case and\n",
    "            left_word['POS']!=tag.POS):\n",
    "            result.append(left_word['word'] + ' ' + m.normal_form)\n",
    "        left_word['idx'] = i\n",
    "        left_word['word'] = m.normal_form\n",
    "        left_word['POS'] = tag.POS\n",
    "        left_word['gender'] = tag.gender\n",
    "        left_word['number'] = tag.number\n",
    "        left_word['case'] = tag.case"
   ]
  },
  {
   "cell_type": "code",
   "execution_count": 7,
   "id": "ef5c4c89",
   "metadata": {},
   "outputs": [
    {
     "data": {
      "text/plain": [
       "21577"
      ]
     },
     "execution_count": 7,
     "metadata": {},
     "output_type": "execute_result"
    }
   ],
   "source": [
    "len(result)"
   ]
  },
  {
   "cell_type": "code",
   "execution_count": 8,
   "id": "fd4818f5",
   "metadata": {},
   "outputs": [
    {
     "data": {
      "text/plain": [
       "5821"
      ]
     },
     "execution_count": 8,
     "metadata": {},
     "output_type": "execute_result"
    }
   ],
   "source": [
    "result1 = list(set(result))\n",
    "len(result1)"
   ]
  },
  {
   "cell_type": "code",
   "execution_count": 9,
   "id": "8987a682",
   "metadata": {},
   "outputs": [
    {
     "data": {
      "text/plain": [
       "['весь добыча',\n",
       " 'какой образ',\n",
       " 'каждый отдел',\n",
       " 'этот норма',\n",
       " 'экономический жизнь',\n",
       " 'первый пример',\n",
       " 'собственный теория',\n",
       " 'новый уловка',\n",
       " 'хлеб свой',\n",
       " 'ростовщический капитал']"
      ]
     },
     "execution_count": 9,
     "metadata": {},
     "output_type": "execute_result"
    }
   ],
   "source": [
    "result1[0:10]"
   ]
  },
  {
   "cell_type": "code",
   "execution_count": 10,
   "id": "a981e7ed",
   "metadata": {},
   "outputs": [],
   "source": [
    "f = open(\"task1_results.txt\", \"a\")\n",
    "f.write('\\n'.join(result1))\n",
    "f.close()"
   ]
  }
 ],
 "metadata": {
  "kernelspec": {
   "display_name": "Python 3 (ipykernel)",
   "language": "python",
   "name": "python3"
  },
  "language_info": {
   "codemirror_mode": {
    "name": "ipython",
    "version": 3
   },
   "file_extension": ".py",
   "mimetype": "text/x-python",
   "name": "python",
   "nbconvert_exporter": "python",
   "pygments_lexer": "ipython3",
   "version": "3.10.0"
  }
 },
 "nbformat": 4,
 "nbformat_minor": 5
}
